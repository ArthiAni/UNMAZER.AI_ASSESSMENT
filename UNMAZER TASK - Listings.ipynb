{
  "nbformat": 4,
  "nbformat_minor": 0,
  "metadata": {
    "colab": {
      "name": "UNMAZER(Listings).ipynb",
      "provenance": [],
      "collapsed_sections": [
        "H2DrzftwrSUi"
      ]
    },
    "kernelspec": {
      "name": "python3",
      "display_name": "Python 3"
    },
    "language_info": {
      "name": "python"
    }
  },
  "cells": [
    {
      "cell_type": "markdown",
      "metadata": {
        "id": "0K_-PsYXAJkE"
      },
      "source": [
        "##### **Import required libraries**"
      ]
    },
    {
      "cell_type": "code",
      "metadata": {
        "id": "07jzCtG2MACE"
      },
      "source": [
        "import pandas as pd\n",
        "import numpy as np\n",
        "import matplotlib.pyplot as plt\n",
        "%matplotlib inline"
      ],
      "execution_count": 1,
      "outputs": []
    },
    {
      "cell_type": "code",
      "metadata": {
        "colab": {
          "base_uri": "https://localhost:8080/",
          "height": 484
        },
        "id": "cYSgYMTHAaGn",
        "outputId": "5cb9894f-b1fd-4fd3-a138-3ff15468a04d"
      },
      "source": [
        "list_df = pd.read_csv('/content/listings.csv')\n",
        "list_df.head()"
      ],
      "execution_count": 2,
      "outputs": [
        {
          "output_type": "execute_result",
          "data": {
            "text/html": [
              "<div>\n",
              "<style scoped>\n",
              "    .dataframe tbody tr th:only-of-type {\n",
              "        vertical-align: middle;\n",
              "    }\n",
              "\n",
              "    .dataframe tbody tr th {\n",
              "        vertical-align: top;\n",
              "    }\n",
              "\n",
              "    .dataframe thead th {\n",
              "        text-align: right;\n",
              "    }\n",
              "</style>\n",
              "<table border=\"1\" class=\"dataframe\">\n",
              "  <thead>\n",
              "    <tr style=\"text-align: right;\">\n",
              "      <th></th>\n",
              "      <th>id</th>\n",
              "      <th>name</th>\n",
              "      <th>host_id</th>\n",
              "      <th>host_name</th>\n",
              "      <th>neighbourhood_group</th>\n",
              "      <th>neighbourhood</th>\n",
              "      <th>latitude</th>\n",
              "      <th>longitude</th>\n",
              "      <th>room_type</th>\n",
              "      <th>price</th>\n",
              "      <th>minimum_nights</th>\n",
              "      <th>number_of_reviews</th>\n",
              "      <th>last_review</th>\n",
              "      <th>reviews_per_month</th>\n",
              "      <th>calculated_host_listings_count</th>\n",
              "      <th>availability_365</th>\n",
              "    </tr>\n",
              "  </thead>\n",
              "  <tbody>\n",
              "    <tr>\n",
              "      <th>0</th>\n",
              "      <td>10595</td>\n",
              "      <td>96m2, 3BR, 2BA, Metro, WI-FI etc...</td>\n",
              "      <td>37177</td>\n",
              "      <td>Emmanouil</td>\n",
              "      <td>NaN</td>\n",
              "      <td>ΑΜΠΕΛΟΚΗΠΟΙ</td>\n",
              "      <td>37.98863</td>\n",
              "      <td>23.76527</td>\n",
              "      <td>Entire home/apt</td>\n",
              "      <td>84</td>\n",
              "      <td>1</td>\n",
              "      <td>25</td>\n",
              "      <td>2020-10-06</td>\n",
              "      <td>0.21</td>\n",
              "      <td>6</td>\n",
              "      <td>234</td>\n",
              "    </tr>\n",
              "    <tr>\n",
              "      <th>1</th>\n",
              "      <td>10990</td>\n",
              "      <td>Athens Quality Apartments - Deluxe Apartment</td>\n",
              "      <td>37177</td>\n",
              "      <td>Emmanouil</td>\n",
              "      <td>NaN</td>\n",
              "      <td>ΑΜΠΕΛΟΚΗΠΟΙ</td>\n",
              "      <td>37.98903</td>\n",
              "      <td>23.76448</td>\n",
              "      <td>Entire home/apt</td>\n",
              "      <td>50</td>\n",
              "      <td>1</td>\n",
              "      <td>44</td>\n",
              "      <td>2020-12-10</td>\n",
              "      <td>0.43</td>\n",
              "      <td>6</td>\n",
              "      <td>356</td>\n",
              "    </tr>\n",
              "    <tr>\n",
              "      <th>2</th>\n",
              "      <td>10993</td>\n",
              "      <td>Athens Quality Apartments - Studio</td>\n",
              "      <td>37177</td>\n",
              "      <td>Emmanouil</td>\n",
              "      <td>NaN</td>\n",
              "      <td>ΑΜΠΕΛΟΚΗΠΟΙ</td>\n",
              "      <td>37.98888</td>\n",
              "      <td>23.76473</td>\n",
              "      <td>Entire home/apt</td>\n",
              "      <td>40</td>\n",
              "      <td>1</td>\n",
              "      <td>58</td>\n",
              "      <td>2021-02-13</td>\n",
              "      <td>0.57</td>\n",
              "      <td>6</td>\n",
              "      <td>154</td>\n",
              "    </tr>\n",
              "    <tr>\n",
              "      <th>3</th>\n",
              "      <td>10995</td>\n",
              "      <td>AQA-No2 1-bedroom, smart tv, fiber connection,</td>\n",
              "      <td>37177</td>\n",
              "      <td>Emmanouil</td>\n",
              "      <td>NaN</td>\n",
              "      <td>ΑΜΠΕΛΟΚΗΠΟΙ</td>\n",
              "      <td>37.98903</td>\n",
              "      <td>23.76448</td>\n",
              "      <td>Entire home/apt</td>\n",
              "      <td>50</td>\n",
              "      <td>1</td>\n",
              "      <td>23</td>\n",
              "      <td>2020-10-03</td>\n",
              "      <td>0.18</td>\n",
              "      <td>6</td>\n",
              "      <td>325</td>\n",
              "    </tr>\n",
              "    <tr>\n",
              "      <th>4</th>\n",
              "      <td>27262</td>\n",
              "      <td>54m2, 1-br, cable tv, wi-fi, metro</td>\n",
              "      <td>37177</td>\n",
              "      <td>Emmanouil</td>\n",
              "      <td>NaN</td>\n",
              "      <td>ΑΜΠΕΛΟΚΗΠΟΙ</td>\n",
              "      <td>37.98924</td>\n",
              "      <td>23.76500</td>\n",
              "      <td>Entire home/apt</td>\n",
              "      <td>50</td>\n",
              "      <td>1</td>\n",
              "      <td>17</td>\n",
              "      <td>2020-01-08</td>\n",
              "      <td>0.17</td>\n",
              "      <td>6</td>\n",
              "      <td>356</td>\n",
              "    </tr>\n",
              "  </tbody>\n",
              "</table>\n",
              "</div>"
            ],
            "text/plain": [
              "      id  ... availability_365\n",
              "0  10595  ...              234\n",
              "1  10990  ...              356\n",
              "2  10993  ...              154\n",
              "3  10995  ...              325\n",
              "4  27262  ...              356\n",
              "\n",
              "[5 rows x 16 columns]"
            ]
          },
          "metadata": {
            "tags": []
          },
          "execution_count": 2
        }
      ]
    },
    {
      "cell_type": "code",
      "metadata": {
        "colab": {
          "base_uri": "https://localhost:8080/"
        },
        "id": "7JlSoRe13kGa",
        "outputId": "555f7b14-344f-400d-fc63-30acee323e64"
      },
      "source": [
        "list_df.shape"
      ],
      "execution_count": 3,
      "outputs": [
        {
          "output_type": "execute_result",
          "data": {
            "text/plain": [
              "(9467, 16)"
            ]
          },
          "metadata": {
            "tags": []
          },
          "execution_count": 3
        }
      ]
    },
    {
      "cell_type": "markdown",
      "metadata": {
        "id": "H2DrzftwrSUi"
      },
      "source": [
        "##### **Geopandas and Geojson**"
      ]
    },
    {
      "cell_type": "code",
      "metadata": {
        "colab": {
          "base_uri": "https://localhost:8080/"
        },
        "id": "DospVCvBFzw5",
        "outputId": "d62fee6e-26c8-4e28-c47b-f74b63434f95"
      },
      "source": [
        "!pip install geopandas"
      ],
      "execution_count": 4,
      "outputs": [
        {
          "output_type": "stream",
          "text": [
            "Requirement already satisfied: geopandas in /usr/local/lib/python3.7/dist-packages (0.9.0)\n",
            "Requirement already satisfied: fiona>=1.8 in /usr/local/lib/python3.7/dist-packages (from geopandas) (1.8.19)\n",
            "Requirement already satisfied: pyproj>=2.2.0 in /usr/local/lib/python3.7/dist-packages (from geopandas) (3.0.1)\n",
            "Requirement already satisfied: shapely>=1.6 in /usr/local/lib/python3.7/dist-packages (from geopandas) (1.7.1)\n",
            "Requirement already satisfied: pandas>=0.24.0 in /usr/local/lib/python3.7/dist-packages (from geopandas) (1.1.5)\n",
            "Requirement already satisfied: munch in /usr/local/lib/python3.7/dist-packages (from fiona>=1.8->geopandas) (2.5.0)\n",
            "Requirement already satisfied: click-plugins>=1.0 in /usr/local/lib/python3.7/dist-packages (from fiona>=1.8->geopandas) (1.1.1)\n",
            "Requirement already satisfied: six>=1.7 in /usr/local/lib/python3.7/dist-packages (from fiona>=1.8->geopandas) (1.15.0)\n",
            "Requirement already satisfied: attrs>=17 in /usr/local/lib/python3.7/dist-packages (from fiona>=1.8->geopandas) (20.3.0)\n",
            "Requirement already satisfied: click<8,>=4.0 in /usr/local/lib/python3.7/dist-packages (from fiona>=1.8->geopandas) (7.1.2)\n",
            "Requirement already satisfied: certifi in /usr/local/lib/python3.7/dist-packages (from fiona>=1.8->geopandas) (2020.12.5)\n",
            "Requirement already satisfied: cligj>=0.5 in /usr/local/lib/python3.7/dist-packages (from fiona>=1.8->geopandas) (0.7.1)\n",
            "Requirement already satisfied: pytz>=2017.2 in /usr/local/lib/python3.7/dist-packages (from pandas>=0.24.0->geopandas) (2018.9)\n",
            "Requirement already satisfied: numpy>=1.15.4 in /usr/local/lib/python3.7/dist-packages (from pandas>=0.24.0->geopandas) (1.19.5)\n",
            "Requirement already satisfied: python-dateutil>=2.7.3 in /usr/local/lib/python3.7/dist-packages (from pandas>=0.24.0->geopandas) (2.8.1)\n"
          ],
          "name": "stdout"
        }
      ]
    },
    {
      "cell_type": "code",
      "metadata": {
        "colab": {
          "base_uri": "https://localhost:8080/"
        },
        "id": "26q3SSTOrgzW",
        "outputId": "d173d3c8-9eae-4715-f655-806e17a2cf7e"
      },
      "source": [
        "!pip install geojsonio"
      ],
      "execution_count": 5,
      "outputs": [
        {
          "output_type": "stream",
          "text": [
            "Requirement already satisfied: geojsonio in /usr/local/lib/python3.7/dist-packages (0.0.3)\n",
            "Requirement already satisfied: github3.py in /usr/local/lib/python3.7/dist-packages (from geojsonio) (2.0.0)\n",
            "Requirement already satisfied: six in /usr/local/lib/python3.7/dist-packages (from geojsonio) (1.15.0)\n",
            "Requirement already satisfied: requests>=2.18 in /usr/local/lib/python3.7/dist-packages (from github3.py->geojsonio) (2.23.0)\n",
            "Requirement already satisfied: uritemplate>=3.0.0 in /usr/local/lib/python3.7/dist-packages (from github3.py->geojsonio) (3.0.1)\n",
            "Requirement already satisfied: python-dateutil>=2.6.0 in /usr/local/lib/python3.7/dist-packages (from github3.py->geojsonio) (2.8.1)\n",
            "Requirement already satisfied: jwcrypto>=0.5.0 in /usr/local/lib/python3.7/dist-packages (from github3.py->geojsonio) (0.8)\n",
            "Requirement already satisfied: urllib3!=1.25.0,!=1.25.1,<1.26,>=1.21.1 in /usr/local/lib/python3.7/dist-packages (from requests>=2.18->github3.py->geojsonio) (1.24.3)\n",
            "Requirement already satisfied: chardet<4,>=3.0.2 in /usr/local/lib/python3.7/dist-packages (from requests>=2.18->github3.py->geojsonio) (3.0.4)\n",
            "Requirement already satisfied: idna<3,>=2.5 in /usr/local/lib/python3.7/dist-packages (from requests>=2.18->github3.py->geojsonio) (2.10)\n",
            "Requirement already satisfied: certifi>=2017.4.17 in /usr/local/lib/python3.7/dist-packages (from requests>=2.18->github3.py->geojsonio) (2020.12.5)\n",
            "Requirement already satisfied: cryptography>=2.3 in /usr/local/lib/python3.7/dist-packages (from jwcrypto>=0.5.0->github3.py->geojsonio) (3.4.7)\n",
            "Requirement already satisfied: cffi>=1.12 in /usr/local/lib/python3.7/dist-packages (from cryptography>=2.3->jwcrypto>=0.5.0->github3.py->geojsonio) (1.14.5)\n",
            "Requirement already satisfied: pycparser in /usr/local/lib/python3.7/dist-packages (from cffi>=1.12->cryptography>=2.3->jwcrypto>=0.5.0->github3.py->geojsonio) (2.20)\n"
          ],
          "name": "stdout"
        }
      ]
    },
    {
      "cell_type": "markdown",
      "metadata": {
        "id": "Mfx7Gx-Lro4Y"
      },
      "source": [
        "##### **TOP AREAS WITH HIGHEST NUMBER OF LISTING**"
      ]
    },
    {
      "cell_type": "code",
      "metadata": {
        "colab": {
          "base_uri": "https://localhost:8080/",
          "height": 194
        },
        "id": "WfcU7hvgHNuA",
        "outputId": "f5ee5d38-be80-4ec7-aa0a-8b1dd51da0aa"
      },
      "source": [
        "import geopandas as gpd\n",
        "\n",
        "neighbourhood_json = gpd.read_file('neighbourhoods.geojson')\n",
        "\n",
        "neighbourhood_json.head()"
      ],
      "execution_count": 6,
      "outputs": [
        {
          "output_type": "execute_result",
          "data": {
            "text/html": [
              "<div>\n",
              "<style scoped>\n",
              "    .dataframe tbody tr th:only-of-type {\n",
              "        vertical-align: middle;\n",
              "    }\n",
              "\n",
              "    .dataframe tbody tr th {\n",
              "        vertical-align: top;\n",
              "    }\n",
              "\n",
              "    .dataframe thead th {\n",
              "        text-align: right;\n",
              "    }\n",
              "</style>\n",
              "<table border=\"1\" class=\"dataframe\">\n",
              "  <thead>\n",
              "    <tr style=\"text-align: right;\">\n",
              "      <th></th>\n",
              "      <th>neighbourhood</th>\n",
              "      <th>neighbourhood_group</th>\n",
              "      <th>geometry</th>\n",
              "    </tr>\n",
              "  </thead>\n",
              "  <tbody>\n",
              "    <tr>\n",
              "      <th>0</th>\n",
              "      <td>1Ο ΝΕΚΡΟΤΑΦΕΙΟ</td>\n",
              "      <td>None</td>\n",
              "      <td>MULTIPOLYGON (((23.74251 37.96321, 23.74250 37...</td>\n",
              "    </tr>\n",
              "    <tr>\n",
              "      <th>1</th>\n",
              "      <td>ΑΓΙΟΣ ΕΛΕΥΘΕΡΙΟΣ</td>\n",
              "      <td>None</td>\n",
              "      <td>MULTIPOLYGON (((23.73580 38.02347, 23.73345 38...</td>\n",
              "    </tr>\n",
              "    <tr>\n",
              "      <th>2</th>\n",
              "      <td>ΑΓΙΟΣ ΚΩΝΣΤΑΝΤΙΝΟΣ-ΠΛΑΤΕΙΑ ΒΑΘΗΣ</td>\n",
              "      <td>None</td>\n",
              "      <td>MULTIPOLYGON (((23.72923 37.98885, 23.72855 37...</td>\n",
              "    </tr>\n",
              "    <tr>\n",
              "      <th>3</th>\n",
              "      <td>ΑΓΙΟΣ ΝΙΚΟΛΑΟΣ</td>\n",
              "      <td>None</td>\n",
              "      <td>MULTIPOLYGON (((23.73376 38.00839, 23.73363 38...</td>\n",
              "    </tr>\n",
              "    <tr>\n",
              "      <th>4</th>\n",
              "      <td>ΑΚΑΔΗΜΙΑ ΠΛΑΤΩΝΟΣ</td>\n",
              "      <td>None</td>\n",
              "      <td>MULTIPOLYGON (((23.71199 37.99614, 23.71249 37...</td>\n",
              "    </tr>\n",
              "  </tbody>\n",
              "</table>\n",
              "</div>"
            ],
            "text/plain": [
              "                      neighbourhood  ...                                           geometry\n",
              "0                    1Ο ΝΕΚΡΟΤΑΦΕΙΟ  ...  MULTIPOLYGON (((23.74251 37.96321, 23.74250 37...\n",
              "1                  ΑΓΙΟΣ ΕΛΕΥΘΕΡΙΟΣ  ...  MULTIPOLYGON (((23.73580 38.02347, 23.73345 38...\n",
              "2  ΑΓΙΟΣ ΚΩΝΣΤΑΝΤΙΝΟΣ-ΠΛΑΤΕΙΑ ΒΑΘΗΣ  ...  MULTIPOLYGON (((23.72923 37.98885, 23.72855 37...\n",
              "3                    ΑΓΙΟΣ ΝΙΚΟΛΑΟΣ  ...  MULTIPOLYGON (((23.73376 38.00839, 23.73363 38...\n",
              "4                 ΑΚΑΔΗΜΙΑ ΠΛΑΤΩΝΟΣ  ...  MULTIPOLYGON (((23.71199 37.99614, 23.71249 37...\n",
              "\n",
              "[5 rows x 3 columns]"
            ]
          },
          "metadata": {
            "tags": []
          },
          "execution_count": 6
        }
      ]
    },
    {
      "cell_type": "code",
      "metadata": {
        "id": "2-Xipn6-2lS2"
      },
      "source": [
        "neighbourhood_json = neighbourhood_json.sort_values('neighbourhood')"
      ],
      "execution_count": 7,
      "outputs": []
    },
    {
      "cell_type": "code",
      "metadata": {
        "id": "dg2k8LuC2rTH"
      },
      "source": [
        "list_df = list_df.sort_values('neighbourhood')"
      ],
      "execution_count": 8,
      "outputs": []
    },
    {
      "cell_type": "code",
      "metadata": {
        "id": "DIETiH0Srmat"
      },
      "source": [
        "sample_df = list_df.groupby(['neighbourhood']).count()"
      ],
      "execution_count": 9,
      "outputs": []
    },
    {
      "cell_type": "code",
      "metadata": {
        "colab": {
          "base_uri": "https://localhost:8080/",
          "height": 344
        },
        "id": "EthA6J7dyczO",
        "outputId": "f2f7f4ac-54a8-4e57-e330-1d393a4677d3"
      },
      "source": [
        "sample_df.head()"
      ],
      "execution_count": 10,
      "outputs": [
        {
          "output_type": "execute_result",
          "data": {
            "text/html": [
              "<div>\n",
              "<style scoped>\n",
              "    .dataframe tbody tr th:only-of-type {\n",
              "        vertical-align: middle;\n",
              "    }\n",
              "\n",
              "    .dataframe tbody tr th {\n",
              "        vertical-align: top;\n",
              "    }\n",
              "\n",
              "    .dataframe thead th {\n",
              "        text-align: right;\n",
              "    }\n",
              "</style>\n",
              "<table border=\"1\" class=\"dataframe\">\n",
              "  <thead>\n",
              "    <tr style=\"text-align: right;\">\n",
              "      <th></th>\n",
              "      <th>id</th>\n",
              "      <th>name</th>\n",
              "      <th>host_id</th>\n",
              "      <th>host_name</th>\n",
              "      <th>neighbourhood_group</th>\n",
              "      <th>latitude</th>\n",
              "      <th>longitude</th>\n",
              "      <th>room_type</th>\n",
              "      <th>price</th>\n",
              "      <th>minimum_nights</th>\n",
              "      <th>number_of_reviews</th>\n",
              "      <th>last_review</th>\n",
              "      <th>reviews_per_month</th>\n",
              "      <th>calculated_host_listings_count</th>\n",
              "      <th>availability_365</th>\n",
              "    </tr>\n",
              "    <tr>\n",
              "      <th>neighbourhood</th>\n",
              "      <th></th>\n",
              "      <th></th>\n",
              "      <th></th>\n",
              "      <th></th>\n",
              "      <th></th>\n",
              "      <th></th>\n",
              "      <th></th>\n",
              "      <th></th>\n",
              "      <th></th>\n",
              "      <th></th>\n",
              "      <th></th>\n",
              "      <th></th>\n",
              "      <th></th>\n",
              "      <th></th>\n",
              "      <th></th>\n",
              "    </tr>\n",
              "  </thead>\n",
              "  <tbody>\n",
              "    <tr>\n",
              "      <th>1Ο ΝΕΚΡΟΤΑΦΕΙΟ</th>\n",
              "      <td>36</td>\n",
              "      <td>36</td>\n",
              "      <td>36</td>\n",
              "      <td>36</td>\n",
              "      <td>0</td>\n",
              "      <td>36</td>\n",
              "      <td>36</td>\n",
              "      <td>36</td>\n",
              "      <td>36</td>\n",
              "      <td>36</td>\n",
              "      <td>36</td>\n",
              "      <td>31</td>\n",
              "      <td>31</td>\n",
              "      <td>36</td>\n",
              "      <td>36</td>\n",
              "    </tr>\n",
              "    <tr>\n",
              "      <th>ΑΓΙΟΣ ΕΛΕΥΘΕΡΙΟΣ</th>\n",
              "      <td>25</td>\n",
              "      <td>25</td>\n",
              "      <td>25</td>\n",
              "      <td>25</td>\n",
              "      <td>0</td>\n",
              "      <td>25</td>\n",
              "      <td>25</td>\n",
              "      <td>25</td>\n",
              "      <td>25</td>\n",
              "      <td>25</td>\n",
              "      <td>25</td>\n",
              "      <td>20</td>\n",
              "      <td>20</td>\n",
              "      <td>25</td>\n",
              "      <td>25</td>\n",
              "    </tr>\n",
              "    <tr>\n",
              "      <th>ΑΓΙΟΣ ΚΩΝΣΤΑΝΤΙΝΟΣ-ΠΛΑΤΕΙΑ ΒΑΘΗΣ</th>\n",
              "      <td>580</td>\n",
              "      <td>580</td>\n",
              "      <td>580</td>\n",
              "      <td>580</td>\n",
              "      <td>0</td>\n",
              "      <td>580</td>\n",
              "      <td>580</td>\n",
              "      <td>580</td>\n",
              "      <td>580</td>\n",
              "      <td>580</td>\n",
              "      <td>580</td>\n",
              "      <td>448</td>\n",
              "      <td>448</td>\n",
              "      <td>580</td>\n",
              "      <td>580</td>\n",
              "    </tr>\n",
              "    <tr>\n",
              "      <th>ΑΓΙΟΣ ΝΙΚΟΛΑΟΣ</th>\n",
              "      <td>67</td>\n",
              "      <td>67</td>\n",
              "      <td>67</td>\n",
              "      <td>67</td>\n",
              "      <td>0</td>\n",
              "      <td>67</td>\n",
              "      <td>67</td>\n",
              "      <td>67</td>\n",
              "      <td>67</td>\n",
              "      <td>67</td>\n",
              "      <td>67</td>\n",
              "      <td>51</td>\n",
              "      <td>51</td>\n",
              "      <td>67</td>\n",
              "      <td>67</td>\n",
              "    </tr>\n",
              "    <tr>\n",
              "      <th>ΑΚΑΔΗΜΙΑ ΠΛΑΤΩΝΟΣ</th>\n",
              "      <td>60</td>\n",
              "      <td>60</td>\n",
              "      <td>60</td>\n",
              "      <td>60</td>\n",
              "      <td>0</td>\n",
              "      <td>60</td>\n",
              "      <td>60</td>\n",
              "      <td>60</td>\n",
              "      <td>60</td>\n",
              "      <td>60</td>\n",
              "      <td>60</td>\n",
              "      <td>50</td>\n",
              "      <td>50</td>\n",
              "      <td>60</td>\n",
              "      <td>60</td>\n",
              "    </tr>\n",
              "  </tbody>\n",
              "</table>\n",
              "</div>"
            ],
            "text/plain": [
              "                                   id  ...  availability_365\n",
              "neighbourhood                          ...                  \n",
              "1Ο ΝΕΚΡΟΤΑΦΕΙΟ                     36  ...                36\n",
              "ΑΓΙΟΣ ΕΛΕΥΘΕΡΙΟΣ                   25  ...                25\n",
              "ΑΓΙΟΣ ΚΩΝΣΤΑΝΤΙΝΟΣ-ΠΛΑΤΕΙΑ ΒΑΘΗΣ  580  ...               580\n",
              "ΑΓΙΟΣ ΝΙΚΟΛΑΟΣ                     67  ...                67\n",
              "ΑΚΑΔΗΜΙΑ ΠΛΑΤΩΝΟΣ                  60  ...                60\n",
              "\n",
              "[5 rows x 15 columns]"
            ]
          },
          "metadata": {
            "tags": []
          },
          "execution_count": 10
        }
      ]
    },
    {
      "cell_type": "code",
      "metadata": {
        "colab": {
          "base_uri": "https://localhost:8080/"
        },
        "id": "dE1GWujd1uXK",
        "outputId": "f5c15d77-0c23-44d7-e221-631530ba7e5b"
      },
      "source": [
        "neighbourhood_json['count'] = sample_df['id']\n",
        "for i in range(44):\n",
        "  neighbourhood_json['count'][i] = sample_df['id'][i]"
      ],
      "execution_count": 11,
      "outputs": [
        {
          "output_type": "stream",
          "text": [
            "/usr/local/lib/python3.7/dist-packages/ipykernel_launcher.py:3: SettingWithCopyWarning: \n",
            "A value is trying to be set on a copy of a slice from a DataFrame\n",
            "\n",
            "See the caveats in the documentation: https://pandas.pydata.org/pandas-docs/stable/user_guide/indexing.html#returning-a-view-versus-a-copy\n",
            "  This is separate from the ipykernel package so we can avoid doing imports until\n"
          ],
          "name": "stderr"
        }
      ]
    },
    {
      "cell_type": "code",
      "metadata": {
        "colab": {
          "base_uri": "https://localhost:8080/",
          "height": 574
        },
        "id": "Ctba7BgcuAuN",
        "outputId": "57e60257-f60d-4854-d1f8-fb4f055e30c8"
      },
      "source": [
        "fig, ax = plt.subplots(1, figsize=(10, 10))\n",
        "ax.axis('off')\n",
        "\n",
        "fig = neighbourhood_json.plot(column='count', cmap='RdPu', linewidth=0.5, ax=ax, edgecolor='0.2', legend=True)"
      ],
      "execution_count": 12,
      "outputs": [
        {
          "output_type": "display_data",
          "data": {
            "image/png": "[encoded data removed]",
            "text/plain": [
              "<Figure size 720x720 with 2 Axes>"
            ]
          },
          "metadata": {
            "tags": [],
            "needs_background": "light"
          }
        }
      ]
    },
    {
      "cell_type": "code",
      "metadata": {
        "id": "FKEpgyWx9rep",
        "colab": {
          "base_uri": "https://localhost:8080/",
          "height": 509
        },
        "outputId": "8d926cd6-6b3e-4a71-83cd-7d48b6b42a41"
      },
      "source": [
        "neighbourhood_json = neighbourhood_json.sort_values('count', ascending=False)\n",
        "\n",
        "neighbourhood_json.head(10)"
      ],
      "execution_count": 13,
      "outputs": [
        {
          "output_type": "execute_result",
          "data": {
            "text/html": [
              "<div>\n",
              "<style scoped>\n",
              "    .dataframe tbody tr th:only-of-type {\n",
              "        vertical-align: middle;\n",
              "    }\n",
              "\n",
              "    .dataframe tbody tr th {\n",
              "        vertical-align: top;\n",
              "    }\n",
              "\n",
              "    .dataframe thead th {\n",
              "        text-align: right;\n",
              "    }\n",
              "</style>\n",
              "<table border=\"1\" class=\"dataframe\">\n",
              "  <thead>\n",
              "    <tr style=\"text-align: right;\">\n",
              "      <th></th>\n",
              "      <th>neighbourhood</th>\n",
              "      <th>neighbourhood_group</th>\n",
              "      <th>geometry</th>\n",
              "      <th>count</th>\n",
              "    </tr>\n",
              "  </thead>\n",
              "  <tbody>\n",
              "    <tr>\n",
              "      <th>15</th>\n",
              "      <td>ΕΜΠΟΡΙΚΟ ΤΡΙΓΩΝΟ-ΠΛΑΚΑ</td>\n",
              "      <td>None</td>\n",
              "      <td>MULTIPOLYGON (((23.73082 37.98582, 23.73181 37...</td>\n",
              "      <td>1738.0</td>\n",
              "    </tr>\n",
              "    <tr>\n",
              "      <th>23</th>\n",
              "      <td>ΚΟΥΚΑΚΙ-ΜΑΚΡΥΓΙΑΝΝΗ</td>\n",
              "      <td>None</td>\n",
              "      <td>MULTIPOLYGON (((23.73134 37.96807, 23.73071 37...</td>\n",
              "      <td>815.0</td>\n",
              "    </tr>\n",
              "    <tr>\n",
              "      <th>26</th>\n",
              "      <td>ΜΟΥΣΕΙΟ-ΕΞΑΡΧΕΙΑ-ΝΕΑΠΟΛΗ</td>\n",
              "      <td>None</td>\n",
              "      <td>MULTIPOLYGON (((23.73136 37.99177, 23.73567 37...</td>\n",
              "      <td>729.0</td>\n",
              "    </tr>\n",
              "    <tr>\n",
              "      <th>28</th>\n",
              "      <td>ΝΕΟΣ ΚΟΣΜΟΣ</td>\n",
              "      <td>None</td>\n",
              "      <td>MULTIPOLYGON (((23.73134 37.96658, 23.73155 37...</td>\n",
              "      <td>689.0</td>\n",
              "    </tr>\n",
              "    <tr>\n",
              "      <th>2</th>\n",
              "      <td>ΑΓΙΟΣ ΚΩΝΣΤΑΝΤΙΝΟΣ-ΠΛΑΤΕΙΑ ΒΑΘΗΣ</td>\n",
              "      <td>None</td>\n",
              "      <td>MULTIPOLYGON (((23.72923 37.98885, 23.72855 37...</td>\n",
              "      <td>580.0</td>\n",
              "    </tr>\n",
              "    <tr>\n",
              "      <th>30</th>\n",
              "      <td>ΠΑΓΚΡΑΤΙ</td>\n",
              "      <td>None</td>\n",
              "      <td>MULTIPOLYGON (((23.74581 37.97592, 23.74644 37...</td>\n",
              "      <td>406.0</td>\n",
              "    </tr>\n",
              "    <tr>\n",
              "      <th>36</th>\n",
              "      <td>ΠΛΑΤΕΙΑ ΑΤΤΙΚΗΣ</td>\n",
              "      <td>None</td>\n",
              "      <td>MULTIPOLYGON (((23.73213 37.99491, 23.73196 37...</td>\n",
              "      <td>404.0</td>\n",
              "    </tr>\n",
              "    <tr>\n",
              "      <th>21</th>\n",
              "      <td>ΚΟΛΩΝΑΚΙ</td>\n",
              "      <td>None</td>\n",
              "      <td>MULTIPOLYGON (((23.75532 37.98111, 23.75495 37...</td>\n",
              "      <td>333.0</td>\n",
              "    </tr>\n",
              "    <tr>\n",
              "      <th>5</th>\n",
              "      <td>ΑΚΡΟΠΟΛΗ</td>\n",
              "      <td>None</td>\n",
              "      <td>MULTIPOLYGON (((23.72432 37.97559, 23.72405 37...</td>\n",
              "      <td>305.0</td>\n",
              "    </tr>\n",
              "    <tr>\n",
              "      <th>6</th>\n",
              "      <td>ΑΜΠΕΛΟΚΗΠΟΙ</td>\n",
              "      <td>None</td>\n",
              "      <td>MULTIPOLYGON (((23.76916 37.99822, 23.76928 37...</td>\n",
              "      <td>302.0</td>\n",
              "    </tr>\n",
              "  </tbody>\n",
              "</table>\n",
              "</div>"
            ],
            "text/plain": [
              "                       neighbourhood  ...   count\n",
              "15            ΕΜΠΟΡΙΚΟ ΤΡΙΓΩΝΟ-ΠΛΑΚΑ  ...  1738.0\n",
              "23               ΚΟΥΚΑΚΙ-ΜΑΚΡΥΓΙΑΝΝΗ  ...   815.0\n",
              "26          ΜΟΥΣΕΙΟ-ΕΞΑΡΧΕΙΑ-ΝΕΑΠΟΛΗ  ...   729.0\n",
              "28                       ΝΕΟΣ ΚΟΣΜΟΣ  ...   689.0\n",
              "2   ΑΓΙΟΣ ΚΩΝΣΤΑΝΤΙΝΟΣ-ΠΛΑΤΕΙΑ ΒΑΘΗΣ  ...   580.0\n",
              "30                          ΠΑΓΚΡΑΤΙ  ...   406.0\n",
              "36                   ΠΛΑΤΕΙΑ ΑΤΤΙΚΗΣ  ...   404.0\n",
              "21                          ΚΟΛΩΝΑΚΙ  ...   333.0\n",
              "5                           ΑΚΡΟΠΟΛΗ  ...   305.0\n",
              "6                        ΑΜΠΕΛΟΚΗΠΟΙ  ...   302.0\n",
              "\n",
              "[10 rows x 4 columns]"
            ]
          },
          "metadata": {
            "tags": []
          },
          "execution_count": 13
        }
      ]
    },
    {
      "cell_type": "markdown",
      "metadata": {
        "id": "QJQqsHSsARzf"
      },
      "source": [
        "##### **Broken down by ROOM_TYPE**"
      ]
    },
    {
      "cell_type": "code",
      "metadata": {
        "id": "q-C-2QSpDH3f"
      },
      "source": [
        "sample_df = list_df.copy()"
      ],
      "execution_count": 14,
      "outputs": []
    },
    {
      "cell_type": "code",
      "metadata": {
        "id": "p9rriwgEDULe"
      },
      "source": [
        "sample_df = sample_df.drop(['neighbourhood_group'], axis=1)"
      ],
      "execution_count": 15,
      "outputs": []
    },
    {
      "cell_type": "code",
      "metadata": {
        "id": "014180SgAZOB"
      },
      "source": [
        "merge = neighbourhood_json.set_index('neighbourhood').join(sample_df.set_index('neighbourhood'))"
      ],
      "execution_count": 16,
      "outputs": []
    },
    {
      "cell_type": "code",
      "metadata": {
        "colab": {
          "base_uri": "https://localhost:8080/",
          "height": 496
        },
        "id": "A-Ucf9KyD6w7",
        "outputId": "f4882e33-ed6d-4666-b08b-cd39945382e6"
      },
      "source": [
        "merge.head()"
      ],
      "execution_count": 17,
      "outputs": [
        {
          "output_type": "execute_result",
          "data": {
            "text/html": [
              "<div>\n",
              "<style scoped>\n",
              "    .dataframe tbody tr th:only-of-type {\n",
              "        vertical-align: middle;\n",
              "    }\n",
              "\n",
              "    .dataframe tbody tr th {\n",
              "        vertical-align: top;\n",
              "    }\n",
              "\n",
              "    .dataframe thead th {\n",
              "        text-align: right;\n",
              "    }\n",
              "</style>\n",
              "<table border=\"1\" class=\"dataframe\">\n",
              "  <thead>\n",
              "    <tr style=\"text-align: right;\">\n",
              "      <th></th>\n",
              "      <th>neighbourhood_group</th>\n",
              "      <th>geometry</th>\n",
              "      <th>count</th>\n",
              "      <th>id</th>\n",
              "      <th>name</th>\n",
              "      <th>host_id</th>\n",
              "      <th>host_name</th>\n",
              "      <th>latitude</th>\n",
              "      <th>longitude</th>\n",
              "      <th>room_type</th>\n",
              "      <th>price</th>\n",
              "      <th>minimum_nights</th>\n",
              "      <th>number_of_reviews</th>\n",
              "      <th>last_review</th>\n",
              "      <th>reviews_per_month</th>\n",
              "      <th>calculated_host_listings_count</th>\n",
              "      <th>availability_365</th>\n",
              "    </tr>\n",
              "    <tr>\n",
              "      <th>neighbourhood</th>\n",
              "      <th></th>\n",
              "      <th></th>\n",
              "      <th></th>\n",
              "      <th></th>\n",
              "      <th></th>\n",
              "      <th></th>\n",
              "      <th></th>\n",
              "      <th></th>\n",
              "      <th></th>\n",
              "      <th></th>\n",
              "      <th></th>\n",
              "      <th></th>\n",
              "      <th></th>\n",
              "      <th></th>\n",
              "      <th></th>\n",
              "      <th></th>\n",
              "      <th></th>\n",
              "    </tr>\n",
              "  </thead>\n",
              "  <tbody>\n",
              "    <tr>\n",
              "      <th>1Ο ΝΕΚΡΟΤΑΦΕΙΟ</th>\n",
              "      <td>None</td>\n",
              "      <td>MULTIPOLYGON (((23.74251 37.96321, 23.74250 37...</td>\n",
              "      <td>36.0</td>\n",
              "      <td>18933125.0</td>\n",
              "      <td>Acropolis view loft</td>\n",
              "      <td>28301070.0</td>\n",
              "      <td>Spiros + Electra</td>\n",
              "      <td>37.96152</td>\n",
              "      <td>23.73779</td>\n",
              "      <td>Entire home/apt</td>\n",
              "      <td>28.0</td>\n",
              "      <td>2.0</td>\n",
              "      <td>158.0</td>\n",
              "      <td>2021-01-31</td>\n",
              "      <td>3.51</td>\n",
              "      <td>1.0</td>\n",
              "      <td>298.0</td>\n",
              "    </tr>\n",
              "    <tr>\n",
              "      <th>1Ο ΝΕΚΡΟΤΑΦΕΙΟ</th>\n",
              "      <td>None</td>\n",
              "      <td>MULTIPOLYGON (((23.74251 37.96321, 23.74250 37...</td>\n",
              "      <td>36.0</td>\n",
              "      <td>18555552.0</td>\n",
              "      <td>Diagora apartment</td>\n",
              "      <td>115494661.0</td>\n",
              "      <td>Vasileios</td>\n",
              "      <td>37.96331</td>\n",
              "      <td>23.74172</td>\n",
              "      <td>Entire home/apt</td>\n",
              "      <td>40.0</td>\n",
              "      <td>2.0</td>\n",
              "      <td>30.0</td>\n",
              "      <td>2018-10-31</td>\n",
              "      <td>0.69</td>\n",
              "      <td>1.0</td>\n",
              "      <td>0.0</td>\n",
              "    </tr>\n",
              "    <tr>\n",
              "      <th>1Ο ΝΕΚΡΟΤΑΦΕΙΟ</th>\n",
              "      <td>None</td>\n",
              "      <td>MULTIPOLYGON (((23.74251 37.96321, 23.74250 37...</td>\n",
              "      <td>36.0</td>\n",
              "      <td>10182231.0</td>\n",
              "      <td>Family friedly apartment</td>\n",
              "      <td>50655909.0</td>\n",
              "      <td>Dimitris</td>\n",
              "      <td>37.96372</td>\n",
              "      <td>23.74147</td>\n",
              "      <td>Entire home/apt</td>\n",
              "      <td>80.0</td>\n",
              "      <td>3.0</td>\n",
              "      <td>0.0</td>\n",
              "      <td>NaN</td>\n",
              "      <td>NaN</td>\n",
              "      <td>1.0</td>\n",
              "      <td>365.0</td>\n",
              "    </tr>\n",
              "    <tr>\n",
              "      <th>1Ο ΝΕΚΡΟΤΑΦΕΙΟ</th>\n",
              "      <td>None</td>\n",
              "      <td>MULTIPOLYGON (((23.74251 37.96321, 23.74250 37...</td>\n",
              "      <td>36.0</td>\n",
              "      <td>1272844.0</td>\n",
              "      <td>Small hostel with garden in Mets</td>\n",
              "      <td>2717857.0</td>\n",
              "      <td>Katerina</td>\n",
              "      <td>37.96525</td>\n",
              "      <td>23.73991</td>\n",
              "      <td>Entire home/apt</td>\n",
              "      <td>25.0</td>\n",
              "      <td>3.0</td>\n",
              "      <td>160.0</td>\n",
              "      <td>2021-02-06</td>\n",
              "      <td>1.74</td>\n",
              "      <td>1.0</td>\n",
              "      <td>364.0</td>\n",
              "    </tr>\n",
              "    <tr>\n",
              "      <th>1Ο ΝΕΚΡΟΤΑΦΕΙΟ</th>\n",
              "      <td>None</td>\n",
              "      <td>MULTIPOLYGON (((23.74251 37.96321, 23.74250 37...</td>\n",
              "      <td>36.0</td>\n",
              "      <td>48105121.0</td>\n",
              "      <td>#AH18 METZ 2-BEDROOM PENTHOUSE APARTMENT</td>\n",
              "      <td>1585338.0</td>\n",
              "      <td>Flavia</td>\n",
              "      <td>37.96430</td>\n",
              "      <td>23.73841</td>\n",
              "      <td>Entire home/apt</td>\n",
              "      <td>126.0</td>\n",
              "      <td>7.0</td>\n",
              "      <td>0.0</td>\n",
              "      <td>NaN</td>\n",
              "      <td>NaN</td>\n",
              "      <td>15.0</td>\n",
              "      <td>349.0</td>\n",
              "    </tr>\n",
              "  </tbody>\n",
              "</table>\n",
              "</div>"
            ],
            "text/plain": [
              "               neighbourhood_group  ... availability_365\n",
              "neighbourhood                       ...                 \n",
              "1Ο ΝΕΚΡΟΤΑΦΕΙΟ                None  ...            298.0\n",
              "1Ο ΝΕΚΡΟΤΑΦΕΙΟ                None  ...              0.0\n",
              "1Ο ΝΕΚΡΟΤΑΦΕΙΟ                None  ...            365.0\n",
              "1Ο ΝΕΚΡΟΤΑΦΕΙΟ                None  ...            364.0\n",
              "1Ο ΝΕΚΡΟΤΑΦΕΙΟ                None  ...            349.0\n",
              "\n",
              "[5 rows x 17 columns]"
            ]
          },
          "metadata": {
            "tags": []
          },
          "execution_count": 17
        }
      ]
    },
    {
      "cell_type": "code",
      "metadata": {
        "colab": {
          "base_uri": "https://localhost:8080/",
          "height": 575
        },
        "id": "xijSD8SlEJuI",
        "outputId": "e179eda7-6127-4d7b-8275-3f2dd160d476"
      },
      "source": [
        "fig, ax = plt.subplots(1, figsize=(10, 10))\n",
        "ax.axis('off')\n",
        "\n",
        "fig = merge.plot(column='room_type', cmap='Accent', linewidth=0.5, ax=ax, edgecolor='0.2', legend=True)"
      ],
      "execution_count": 18,
      "outputs": [
        {
          "output_type": "display_data",
          "data": {
            "image/png": "[encoded data removed]",
            "text/plain": [
              "<Figure size 720x720 with 1 Axes>"
            ]
          },
          "metadata": {
            "tags": [],
            "needs_background": "light"
          }
        }
      ]
    },
    {
      "cell_type": "markdown",
      "metadata": {
        "id": "R1_qRcXdIqpG"
      },
      "source": [
        "##### **TOP 10 HOSTS BY THEIR TOTAL NUMBER OF LISTINGS**"
      ]
    },
    {
      "cell_type": "code",
      "metadata": {
        "id": "eDHT4neTG7v7"
      },
      "source": [
        "sample_df = pd.DataFrame(list_df['host_id'])\n",
        "sample_df['host_name'] = list_df['host_name']"
      ],
      "execution_count": 19,
      "outputs": []
    },
    {
      "cell_type": "code",
      "metadata": {
        "id": "u3lrfl3HNUq0"
      },
      "source": [
        "sample_df = sample_df.drop_duplicates()"
      ],
      "execution_count": 20,
      "outputs": []
    },
    {
      "cell_type": "code",
      "metadata": {
        "id": "viAmm5-SRW-K"
      },
      "source": [
        "sample_df = sample_df.sort_values('host_id')"
      ],
      "execution_count": 21,
      "outputs": []
    },
    {
      "cell_type": "code",
      "metadata": {
        "id": "idfe6ymVXrYO"
      },
      "source": [
        "sample_df.reset_index(inplace = True)\n",
        "sample_df = sample_df.drop(['index'], axis=1)"
      ],
      "execution_count": 22,
      "outputs": []
    },
    {
      "cell_type": "code",
      "metadata": {
        "colab": {
          "base_uri": "https://localhost:8080/",
          "height": 194
        },
        "id": "dPHIEEPRM4CD",
        "outputId": "9f68093e-a040-4e1d-b628-05e8431cfd6c"
      },
      "source": [
        "sample_df.head()"
      ],
      "execution_count": 23,
      "outputs": [
        {
          "output_type": "execute_result",
          "data": {
            "text/html": [
              "<div>\n",
              "<style scoped>\n",
              "    .dataframe tbody tr th:only-of-type {\n",
              "        vertical-align: middle;\n",
              "    }\n",
              "\n",
              "    .dataframe tbody tr th {\n",
              "        vertical-align: top;\n",
              "    }\n",
              "\n",
              "    .dataframe thead th {\n",
              "        text-align: right;\n",
              "    }\n",
              "</style>\n",
              "<table border=\"1\" class=\"dataframe\">\n",
              "  <thead>\n",
              "    <tr style=\"text-align: right;\">\n",
              "      <th></th>\n",
              "      <th>host_id</th>\n",
              "      <th>host_name</th>\n",
              "    </tr>\n",
              "  </thead>\n",
              "  <tbody>\n",
              "    <tr>\n",
              "      <th>0</th>\n",
              "      <td>37177</td>\n",
              "      <td>Emmanouil</td>\n",
              "    </tr>\n",
              "    <tr>\n",
              "      <th>1</th>\n",
              "      <td>70840</td>\n",
              "      <td>Amanda</td>\n",
              "    </tr>\n",
              "    <tr>\n",
              "      <th>2</th>\n",
              "      <td>102433</td>\n",
              "      <td>Pavlos</td>\n",
              "    </tr>\n",
              "    <tr>\n",
              "      <th>3</th>\n",
              "      <td>110619</td>\n",
              "      <td>Stathis</td>\n",
              "    </tr>\n",
              "    <tr>\n",
              "      <th>4</th>\n",
              "      <td>121318</td>\n",
              "      <td>Francis - Fotios</td>\n",
              "    </tr>\n",
              "  </tbody>\n",
              "</table>\n",
              "</div>"
            ],
            "text/plain": [
              "   host_id         host_name\n",
              "0    37177         Emmanouil\n",
              "1    70840            Amanda\n",
              "2   102433            Pavlos\n",
              "3   110619           Stathis\n",
              "4   121318  Francis - Fotios"
            ]
          },
          "metadata": {
            "tags": []
          },
          "execution_count": 23
        }
      ]
    },
    {
      "cell_type": "code",
      "metadata": {
        "colab": {
          "base_uri": "https://localhost:8080/"
        },
        "id": "cxwJK-QMQKlU",
        "outputId": "ff4de7a0-2a10-4c14-bc8c-7254ecebbe87"
      },
      "source": [
        "sample_df.shape"
      ],
      "execution_count": 24,
      "outputs": [
        {
          "output_type": "execute_result",
          "data": {
            "text/plain": [
              "(4955, 2)"
            ]
          },
          "metadata": {
            "tags": []
          },
          "execution_count": 24
        }
      ]
    },
    {
      "cell_type": "code",
      "metadata": {
        "id": "rqReDeTkTQZg"
      },
      "source": [
        "sample1_df = list_df.copy()\n",
        "sample1_df = sample1_df.sort_values('host_name')"
      ],
      "execution_count": 25,
      "outputs": []
    },
    {
      "cell_type": "code",
      "metadata": {
        "id": "cq8txy5VIzSE"
      },
      "source": [
        "sample1_df = list_df.groupby(['host_id']).count()\n",
        "sample1_df.reset_index(inplace = True)"
      ],
      "execution_count": 26,
      "outputs": []
    },
    {
      "cell_type": "code",
      "metadata": {
        "colab": {
          "base_uri": "https://localhost:8080/",
          "height": 214
        },
        "id": "Od1kxksmgiWG",
        "outputId": "bb51c934-0302-4880-adcc-015356849bad"
      },
      "source": [
        "sample1_df.head()"
      ],
      "execution_count": 27,
      "outputs": [
        {
          "output_type": "execute_result",
          "data": {
            "text/html": [
              "<div>\n",
              "<style scoped>\n",
              "    .dataframe tbody tr th:only-of-type {\n",
              "        vertical-align: middle;\n",
              "    }\n",
              "\n",
              "    .dataframe tbody tr th {\n",
              "        vertical-align: top;\n",
              "    }\n",
              "\n",
              "    .dataframe thead th {\n",
              "        text-align: right;\n",
              "    }\n",
              "</style>\n",
              "<table border=\"1\" class=\"dataframe\">\n",
              "  <thead>\n",
              "    <tr style=\"text-align: right;\">\n",
              "      <th></th>\n",
              "      <th>host_id</th>\n",
              "      <th>id</th>\n",
              "      <th>name</th>\n",
              "      <th>host_name</th>\n",
              "      <th>neighbourhood_group</th>\n",
              "      <th>neighbourhood</th>\n",
              "      <th>latitude</th>\n",
              "      <th>longitude</th>\n",
              "      <th>room_type</th>\n",
              "      <th>price</th>\n",
              "      <th>minimum_nights</th>\n",
              "      <th>number_of_reviews</th>\n",
              "      <th>last_review</th>\n",
              "      <th>reviews_per_month</th>\n",
              "      <th>calculated_host_listings_count</th>\n",
              "      <th>availability_365</th>\n",
              "    </tr>\n",
              "  </thead>\n",
              "  <tbody>\n",
              "    <tr>\n",
              "      <th>0</th>\n",
              "      <td>37177</td>\n",
              "      <td>6</td>\n",
              "      <td>6</td>\n",
              "      <td>6</td>\n",
              "      <td>0</td>\n",
              "      <td>6</td>\n",
              "      <td>6</td>\n",
              "      <td>6</td>\n",
              "      <td>6</td>\n",
              "      <td>6</td>\n",
              "      <td>6</td>\n",
              "      <td>6</td>\n",
              "      <td>6</td>\n",
              "      <td>6</td>\n",
              "      <td>6</td>\n",
              "      <td>6</td>\n",
              "    </tr>\n",
              "    <tr>\n",
              "      <th>1</th>\n",
              "      <td>70840</td>\n",
              "      <td>1</td>\n",
              "      <td>1</td>\n",
              "      <td>1</td>\n",
              "      <td>0</td>\n",
              "      <td>1</td>\n",
              "      <td>1</td>\n",
              "      <td>1</td>\n",
              "      <td>1</td>\n",
              "      <td>1</td>\n",
              "      <td>1</td>\n",
              "      <td>1</td>\n",
              "      <td>1</td>\n",
              "      <td>1</td>\n",
              "      <td>1</td>\n",
              "      <td>1</td>\n",
              "    </tr>\n",
              "    <tr>\n",
              "      <th>2</th>\n",
              "      <td>102433</td>\n",
              "      <td>1</td>\n",
              "      <td>1</td>\n",
              "      <td>1</td>\n",
              "      <td>0</td>\n",
              "      <td>1</td>\n",
              "      <td>1</td>\n",
              "      <td>1</td>\n",
              "      <td>1</td>\n",
              "      <td>1</td>\n",
              "      <td>1</td>\n",
              "      <td>1</td>\n",
              "      <td>0</td>\n",
              "      <td>0</td>\n",
              "      <td>1</td>\n",
              "      <td>1</td>\n",
              "    </tr>\n",
              "    <tr>\n",
              "      <th>3</th>\n",
              "      <td>110619</td>\n",
              "      <td>2</td>\n",
              "      <td>2</td>\n",
              "      <td>2</td>\n",
              "      <td>0</td>\n",
              "      <td>2</td>\n",
              "      <td>2</td>\n",
              "      <td>2</td>\n",
              "      <td>2</td>\n",
              "      <td>2</td>\n",
              "      <td>2</td>\n",
              "      <td>2</td>\n",
              "      <td>2</td>\n",
              "      <td>2</td>\n",
              "      <td>2</td>\n",
              "      <td>2</td>\n",
              "    </tr>\n",
              "    <tr>\n",
              "      <th>4</th>\n",
              "      <td>121318</td>\n",
              "      <td>2</td>\n",
              "      <td>2</td>\n",
              "      <td>2</td>\n",
              "      <td>0</td>\n",
              "      <td>2</td>\n",
              "      <td>2</td>\n",
              "      <td>2</td>\n",
              "      <td>2</td>\n",
              "      <td>2</td>\n",
              "      <td>2</td>\n",
              "      <td>2</td>\n",
              "      <td>2</td>\n",
              "      <td>2</td>\n",
              "      <td>2</td>\n",
              "      <td>2</td>\n",
              "    </tr>\n",
              "  </tbody>\n",
              "</table>\n",
              "</div>"
            ],
            "text/plain": [
              "   host_id  id  ...  calculated_host_listings_count  availability_365\n",
              "0    37177   6  ...                               6                 6\n",
              "1    70840   1  ...                               1                 1\n",
              "2   102433   1  ...                               1                 1\n",
              "3   110619   2  ...                               2                 2\n",
              "4   121318   2  ...                               2                 2\n",
              "\n",
              "[5 rows x 16 columns]"
            ]
          },
          "metadata": {
            "tags": []
          },
          "execution_count": 27
        }
      ]
    },
    {
      "cell_type": "code",
      "metadata": {
        "colab": {
          "base_uri": "https://localhost:8080/"
        },
        "id": "ESO_FAVUTsJP",
        "outputId": "58cd4edb-1cb8-4cc2-ef59-0427d0232633"
      },
      "source": [
        "sample1_df.shape"
      ],
      "execution_count": 28,
      "outputs": [
        {
          "output_type": "execute_result",
          "data": {
            "text/plain": [
              "(4955, 16)"
            ]
          },
          "metadata": {
            "tags": []
          },
          "execution_count": 28
        }
      ]
    },
    {
      "cell_type": "code",
      "metadata": {
        "colab": {
          "base_uri": "https://localhost:8080/"
        },
        "id": "LhradFXoUboG",
        "outputId": "610f8f96-e411-4b28-957c-e6fabb311b37"
      },
      "source": [
        "sample_df['listing'] = sample1_df['id']\n",
        "for i in range(4955):\n",
        "  sample_df['listing'][i] = sample1_df['id'][i]"
      ],
      "execution_count": 29,
      "outputs": [
        {
          "output_type": "stream",
          "text": [
            "/usr/local/lib/python3.7/dist-packages/ipykernel_launcher.py:3: SettingWithCopyWarning: \n",
            "A value is trying to be set on a copy of a slice from a DataFrame\n",
            "\n",
            "See the caveats in the documentation: https://pandas.pydata.org/pandas-docs/stable/user_guide/indexing.html#returning-a-view-versus-a-copy\n",
            "  This is separate from the ipykernel package so we can avoid doing imports until\n"
          ],
          "name": "stderr"
        }
      ]
    },
    {
      "cell_type": "code",
      "metadata": {
        "colab": {
          "base_uri": "https://localhost:8080/",
          "height": 358
        },
        "id": "FQCMES4oVjp_",
        "outputId": "e93fec53-4b84-4230-b92c-55ba4c86b695"
      },
      "source": [
        "sample_df = sample_df.sort_values('listing', ascending=False)\n",
        "\n",
        "print('TOP 10 HOSTS BY THEIR TOTAL NUMBER OF LISTINGS')\n",
        "sample_df.head(10)"
      ],
      "execution_count": 30,
      "outputs": [
        {
          "output_type": "stream",
          "text": [
            "TOP 10 HOSTS BY THEIR TOTAL NUMBER OF LISTINGS\n"
          ],
          "name": "stdout"
        },
        {
          "output_type": "execute_result",
          "data": {
            "text/html": [
              "<div>\n",
              "<style scoped>\n",
              "    .dataframe tbody tr th:only-of-type {\n",
              "        vertical-align: middle;\n",
              "    }\n",
              "\n",
              "    .dataframe tbody tr th {\n",
              "        vertical-align: top;\n",
              "    }\n",
              "\n",
              "    .dataframe thead th {\n",
              "        text-align: right;\n",
              "    }\n",
              "</style>\n",
              "<table border=\"1\" class=\"dataframe\">\n",
              "  <thead>\n",
              "    <tr style=\"text-align: right;\">\n",
              "      <th></th>\n",
              "      <th>host_id</th>\n",
              "      <th>host_name</th>\n",
              "      <th>listing</th>\n",
              "    </tr>\n",
              "  </thead>\n",
              "  <tbody>\n",
              "    <tr>\n",
              "      <th>1779</th>\n",
              "      <td>77457889</td>\n",
              "      <td>Παναγιώτης</td>\n",
              "      <td>126</td>\n",
              "    </tr>\n",
              "    <tr>\n",
              "      <th>902</th>\n",
              "      <td>29927830</td>\n",
              "      <td>Homm ®</td>\n",
              "      <td>113</td>\n",
              "    </tr>\n",
              "    <tr>\n",
              "      <th>61</th>\n",
              "      <td>748818</td>\n",
              "      <td>George</td>\n",
              "      <td>67</td>\n",
              "    </tr>\n",
              "    <tr>\n",
              "      <th>2212</th>\n",
              "      <td>112527018</td>\n",
              "      <td>Toni</td>\n",
              "      <td>63</td>\n",
              "    </tr>\n",
              "    <tr>\n",
              "      <th>2509</th>\n",
              "      <td>135482892</td>\n",
              "      <td>Home+</td>\n",
              "      <td>60</td>\n",
              "    </tr>\n",
              "    <tr>\n",
              "      <th>128</th>\n",
              "      <td>2089542</td>\n",
              "      <td>Tia &amp; Mike</td>\n",
              "      <td>56</td>\n",
              "    </tr>\n",
              "    <tr>\n",
              "      <th>106</th>\n",
              "      <td>1621474</td>\n",
              "      <td>Mint</td>\n",
              "      <td>56</td>\n",
              "    </tr>\n",
              "    <tr>\n",
              "      <th>670</th>\n",
              "      <td>20104194</td>\n",
              "      <td>Upstreet</td>\n",
              "      <td>50</td>\n",
              "    </tr>\n",
              "    <tr>\n",
              "      <th>96</th>\n",
              "      <td>1418201</td>\n",
              "      <td>Dean</td>\n",
              "      <td>42</td>\n",
              "    </tr>\n",
              "    <tr>\n",
              "      <th>339</th>\n",
              "      <td>7186279</td>\n",
              "      <td>Nick</td>\n",
              "      <td>40</td>\n",
              "    </tr>\n",
              "  </tbody>\n",
              "</table>\n",
              "</div>"
            ],
            "text/plain": [
              "        host_id   host_name  listing\n",
              "1779   77457889  Παναγιώτης      126\n",
              "902    29927830      Homm ®      113\n",
              "61       748818      George       67\n",
              "2212  112527018        Toni       63\n",
              "2509  135482892       Home+       60\n",
              "128     2089542  Tia & Mike       56\n",
              "106     1621474        Mint       56\n",
              "670    20104194    Upstreet       50\n",
              "96      1418201        Dean       42\n",
              "339     7186279        Nick       40"
            ]
          },
          "metadata": {
            "tags": []
          },
          "execution_count": 30
        }
      ]
    },
    {
      "cell_type": "code",
      "metadata": {
        "id": "eQuEOSzwhfcy"
      },
      "source": [
        ""
      ],
      "execution_count": 30,
      "outputs": []
    }
  ]
}